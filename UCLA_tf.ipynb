{
  "nbformat": 4,
  "nbformat_minor": 0,
  "metadata": {
    "colab": {
      "name": "UCLA_tf.ipynb",
      "provenance": [],
      "collapsed_sections": [],
      "include_colab_link": true
    },
    "kernelspec": {
      "name": "python3",
      "display_name": "Python 3"
    },
    "accelerator": "GPU"
  },
  "cells": [
    {
      "cell_type": "markdown",
      "metadata": {
        "id": "view-in-github",
        "colab_type": "text"
      },
      "source": [
        "<a href=\"https://colab.research.google.com/github/kmc89/Concrete-Strength-Prediction/blob/master/UCLA_tf.ipynb\" target=\"_parent\"><img src=\"https://colab.research.google.com/assets/colab-badge.svg\" alt=\"Open In Colab\"/></a>"
      ]
    },
    {
      "cell_type": "code",
      "metadata": {
        "id": "TFlqMHWt7MaM",
        "colab_type": "code",
        "colab": {}
      },
      "source": [
        "#!pip install -q tensorflow-gpu==1.15.0"
      ],
      "execution_count": 0,
      "outputs": []
    },
    {
      "cell_type": "code",
      "metadata": {
        "id": "TH_MN23HZ2v_",
        "colab_type": "code",
        "outputId": "470d628d-2a4c-4d7a-ad53-ba14efec8cf5",
        "colab": {
          "base_uri": "https://localhost:8080/",
          "height": 82
        }
      },
      "source": [
        "import numpy as np\n",
        "import pandas as pd\n",
        "import math\n",
        "import matplotlib.pyplot as plt\n",
        "import seaborn as sns\n",
        "sns.set_style('darkgrid')\n",
        "from sklearn.model_selection import KFold, cross_val_score, train_test_split\n",
        "from sklearn.preprocessing import StandardScaler, RobustScaler, MinMaxScaler, Normalizer\n",
        "from sklearn.metrics import mean_squared_error, make_scorer, r2_score\n",
        "from sklearn.utils import shuffle\n",
        "\n",
        "import tensorflow as tf\n",
        "# keras\n",
        "from tensorflow.keras.layers import Dense, Input, Activation, LeakyReLU\n",
        "from tensorflow.keras.layers import BatchNormalization, Add, Dropout\n",
        "from tensorflow.keras.optimizers import Adam\n",
        "from tensorflow.keras.models import Model, load_model\n",
        "from tensorflow.keras import callbacks\n",
        "from tensorflow.keras import backend as K\n",
        "from tensorflow.keras.wrappers.scikit_learn import KerasRegressor\n",
        "print(tf.__version__)"
      ],
      "execution_count": 0,
      "outputs": [
        {
          "output_type": "display_data",
          "data": {
            "text/html": [
              "<p style=\"color: red;\">\n",
              "The default version of TensorFlow in Colab will soon switch to TensorFlow 2.x.<br>\n",
              "We recommend you <a href=\"https://www.tensorflow.org/guide/migrate\" target=\"_blank\">upgrade</a> now \n",
              "or ensure your notebook will continue to use TensorFlow 1.x via the <code>%tensorflow_version 1.x</code> magic:\n",
              "<a href=\"https://colab.research.google.com/notebooks/tensorflow_version.ipynb\" target=\"_blank\">more info</a>.</p>\n"
            ],
            "text/plain": [
              "<IPython.core.display.HTML object>"
            ]
          },
          "metadata": {
            "tags": []
          }
        },
        {
          "output_type": "stream",
          "text": [
            "1.15.0\n"
          ],
          "name": "stdout"
        }
      ]
    },
    {
      "cell_type": "code",
      "metadata": {
        "id": "pdAC3QD2aKwZ",
        "colab_type": "code",
        "outputId": "d5f72068-f21c-4079-da0a-6c28a1cb223c",
        "colab": {
          "base_uri": "https://localhost:8080/",
          "height": 126
        }
      },
      "source": [
        "# import data\n",
        "from google.colab import files, drive\n",
        "drive.mount(\"/content/gdrive\")\n",
        "# files.upload()"
      ],
      "execution_count": 0,
      "outputs": [
        {
          "output_type": "stream",
          "text": [
            "Go to this URL in a browser: https://accounts.google.com/o/oauth2/auth?client_id=947318989803-6bn6qk8qdgf4n4g3pfee6491hc0brc4i.apps.googleusercontent.com&redirect_uri=urn%3aietf%3awg%3aoauth%3a2.0%3aoob&response_type=code&scope=email%20https%3a%2f%2fwww.googleapis.com%2fauth%2fdocs.test%20https%3a%2f%2fwww.googleapis.com%2fauth%2fdrive%20https%3a%2f%2fwww.googleapis.com%2fauth%2fdrive.photos.readonly%20https%3a%2f%2fwww.googleapis.com%2fauth%2fpeopleapi.readonly\n",
            "\n",
            "Enter your authorization code:\n",
            "··········\n",
            "Mounted at /content/gdrive\n"
          ],
          "name": "stdout"
        }
      ]
    },
    {
      "cell_type": "code",
      "metadata": {
        "id": "yHqfFz6Z2G7Y",
        "colab_type": "code",
        "colab": {}
      },
      "source": [
        "# Code to read csv file into Colaboratory:\n",
        "from pydrive.auth import GoogleAuth\n",
        "from pydrive.drive import GoogleDrive\n",
        "from google.colab import auth\n",
        "from oauth2client.client import GoogleCredentials\n",
        "# Authenticate and create the PyDrive client.\n",
        "auth.authenticate_user()\n",
        "gauth = GoogleAuth()\n",
        "gauth.credentials = GoogleCredentials.get_application_default()\n",
        "drive = GoogleDrive(gauth)"
      ],
      "execution_count": 0,
      "outputs": []
    },
    {
      "cell_type": "code",
      "metadata": {
        "id": "ZkJun1vs3jvR",
        "colab_type": "code",
        "outputId": "ad97051f-287f-4f26-e91c-7b8d6e19ac39",
        "colab": {
          "base_uri": "https://localhost:8080/",
          "height": 53
        }
      },
      "source": [
        "link = \"https://drive.google.com/open?id=1niFDtDbD-NtI0fINwxGidgAoVgRI5r1g\"\n",
        "fluff, id_down = link.split('=')\n",
        "print(\"File ID: {}\".format(id_down))\n",
        "\n",
        "upload_link = \"https://drive.google.com/open?id=1OPkyRvIKKjor9RspmfJ2eP9c02rXNzKV\"\n",
        "url, id_up = link.split('=')\n",
        "print(\"Upload folder ID: {}\".format(id_up))\n",
        "\n",
        "file = drive.CreateFile({'id':id_down}) \n",
        "file.GetContentFile('clean_data_28days.csv')"
      ],
      "execution_count": 0,
      "outputs": [
        {
          "output_type": "stream",
          "text": [
            "File ID: 1niFDtDbD-NtI0fINwxGidgAoVgRI5r1g\n",
            "Upload folder ID: 1niFDtDbD-NtI0fINwxGidgAoVgRI5r1g\n"
          ],
          "name": "stdout"
        }
      ]
    },
    {
      "cell_type": "code",
      "metadata": {
        "id": "02m9RChDcYgc",
        "colab_type": "code",
        "outputId": "4b35b2ae-2e54-4439-c38f-49981c8548cf",
        "colab": {
          "base_uri": "https://localhost:8080/",
          "height": 315
        }
      },
      "source": [
        "df_data = pd.read_csv('clean_data_28days.csv')\n",
        "df_data.describe()"
      ],
      "execution_count": 0,
      "outputs": [
        {
          "output_type": "execute_result",
          "data": {
            "text/html": [
              "<div>\n",
              "<style scoped>\n",
              "    .dataframe tbody tr th:only-of-type {\n",
              "        vertical-align: middle;\n",
              "    }\n",
              "\n",
              "    .dataframe tbody tr th {\n",
              "        vertical-align: top;\n",
              "    }\n",
              "\n",
              "    .dataframe thead th {\n",
              "        text-align: right;\n",
              "    }\n",
              "</style>\n",
              "<table border=\"1\" class=\"dataframe\">\n",
              "  <thead>\n",
              "    <tr style=\"text-align: right;\">\n",
              "      <th></th>\n",
              "      <th>AEA Dose (oz/cwt)</th>\n",
              "      <th>TYPE AWRA Dose (oz/cwt)</th>\n",
              "      <th>W/(C+P)</th>\n",
              "      <th>7 Day</th>\n",
              "      <th>28 Day</th>\n",
              "      <th>Coarse Agg Percentage</th>\n",
              "      <th>Fine Agg Percentage</th>\n",
              "      <th>%Fly Ash</th>\n",
              "    </tr>\n",
              "  </thead>\n",
              "  <tbody>\n",
              "    <tr>\n",
              "      <th>count</th>\n",
              "      <td>7441.000000</td>\n",
              "      <td>7441.000000</td>\n",
              "      <td>7441.000000</td>\n",
              "      <td>7441.000000</td>\n",
              "      <td>7441.000000</td>\n",
              "      <td>7441.000000</td>\n",
              "      <td>7441.000000</td>\n",
              "      <td>7441.000000</td>\n",
              "    </tr>\n",
              "    <tr>\n",
              "      <th>mean</th>\n",
              "      <td>0.451765</td>\n",
              "      <td>3.298768</td>\n",
              "      <td>0.381364</td>\n",
              "      <td>4356.616046</td>\n",
              "      <td>5776.655019</td>\n",
              "      <td>47.554086</td>\n",
              "      <td>34.968076</td>\n",
              "      <td>3.010362</td>\n",
              "    </tr>\n",
              "    <tr>\n",
              "      <th>std</th>\n",
              "      <td>0.282533</td>\n",
              "      <td>1.884618</td>\n",
              "      <td>0.043183</td>\n",
              "      <td>977.603430</td>\n",
              "      <td>1032.851117</td>\n",
              "      <td>1.473127</td>\n",
              "      <td>2.249621</td>\n",
              "      <td>1.753022</td>\n",
              "    </tr>\n",
              "    <tr>\n",
              "      <th>min</th>\n",
              "      <td>0.000000</td>\n",
              "      <td>0.000000</td>\n",
              "      <td>0.240000</td>\n",
              "      <td>1720.000000</td>\n",
              "      <td>3200.000000</td>\n",
              "      <td>31.480118</td>\n",
              "      <td>25.965329</td>\n",
              "      <td>0.000000</td>\n",
              "    </tr>\n",
              "    <tr>\n",
              "      <th>25%</th>\n",
              "      <td>0.350000</td>\n",
              "      <td>2.010000</td>\n",
              "      <td>0.350000</td>\n",
              "      <td>3740.000000</td>\n",
              "      <td>5080.000000</td>\n",
              "      <td>47.001076</td>\n",
              "      <td>33.337954</td>\n",
              "      <td>1.738581</td>\n",
              "    </tr>\n",
              "    <tr>\n",
              "      <th>50%</th>\n",
              "      <td>0.460000</td>\n",
              "      <td>3.990000</td>\n",
              "      <td>0.380000</td>\n",
              "      <td>4200.000000</td>\n",
              "      <td>5640.000000</td>\n",
              "      <td>47.877294</td>\n",
              "      <td>34.767074</td>\n",
              "      <td>3.358313</td>\n",
              "    </tr>\n",
              "    <tr>\n",
              "      <th>75%</th>\n",
              "      <td>0.580000</td>\n",
              "      <td>4.920000</td>\n",
              "      <td>0.400000</td>\n",
              "      <td>4830.000000</td>\n",
              "      <td>6340.000000</td>\n",
              "      <td>48.413908</td>\n",
              "      <td>36.413717</td>\n",
              "      <td>3.703186</td>\n",
              "    </tr>\n",
              "    <tr>\n",
              "      <th>max</th>\n",
              "      <td>3.770000</td>\n",
              "      <td>6.080000</td>\n",
              "      <td>0.590000</td>\n",
              "      <td>35790.000000</td>\n",
              "      <td>12050.000000</td>\n",
              "      <td>54.070968</td>\n",
              "      <td>52.551303</td>\n",
              "      <td>6.511770</td>\n",
              "    </tr>\n",
              "  </tbody>\n",
              "</table>\n",
              "</div>"
            ],
            "text/plain": [
              "       AEA Dose (oz/cwt)  ...     %Fly Ash\n",
              "count        7441.000000  ...  7441.000000\n",
              "mean            0.451765  ...     3.010362\n",
              "std             0.282533  ...     1.753022\n",
              "min             0.000000  ...     0.000000\n",
              "25%             0.350000  ...     1.738581\n",
              "50%             0.460000  ...     3.358313\n",
              "75%             0.580000  ...     3.703186\n",
              "max             3.770000  ...     6.511770\n",
              "\n",
              "[8 rows x 8 columns]"
            ]
          },
          "metadata": {
            "tags": []
          },
          "execution_count": 6
        }
      ]
    },
    {
      "cell_type": "code",
      "metadata": {
        "id": "xTrwnqX23fd_",
        "colab_type": "code",
        "outputId": "10f73ba7-6e8f-4b89-d113-38783e5cebd8",
        "colab": {
          "base_uri": "https://localhost:8080/",
          "height": 70
        }
      },
      "source": [
        "df_data.columns"
      ],
      "execution_count": 0,
      "outputs": [
        {
          "output_type": "execute_result",
          "data": {
            "text/plain": [
              "Index(['AEA Dose (oz/cwt)', 'TYPE AWRA Dose (oz/cwt)', 'W/(C+P)', '7 Day',\n",
              "       '28 Day', 'Coarse Agg Percentage', 'Fine Agg Percentage', '%Fly Ash'],\n",
              "      dtype='object')"
            ]
          },
          "metadata": {
            "tags": []
          },
          "execution_count": 7
        }
      ]
    },
    {
      "cell_type": "code",
      "metadata": {
        "id": "IGdySB7j4Ktc",
        "colab_type": "code",
        "colab": {}
      },
      "source": [
        "y7 = df_data['7 Day']\n",
        "y28 = df_data['28 Day']\n",
        "X = df_data.drop(['7 Day', '28 Day'], axis=1)\n",
        "\n",
        "X7_train, X7_test, y7_train, y7_test = train_test_split(X, y7, test_size=0.2, random_state=42)\n",
        "X28_train, X28_test, y28_train, y28_test = train_test_split(X, y28, test_size=0.2, random_state=42)"
      ],
      "execution_count": 0,
      "outputs": []
    },
    {
      "cell_type": "code",
      "metadata": {
        "id": "ea0fBYXA-W7R",
        "colab_type": "code",
        "colab": {}
      },
      "source": [
        "def plot_history(history, label):\n",
        "    fig = plt.figure()\n",
        "    plt.plot(history.history['loss'])\n",
        "    plt.plot(history.history['val_loss'])\n",
        "    plt.title('Loss for %s' % label)\n",
        "    plt.ylabel('Loss')\n",
        "    plt.xlabel('Epoch')\n",
        "    _= plt.legend(['Train','Validation'], loc='upper left')\n",
        "    # plt.savefig(fig, format = \"png\")\n",
        "    plt.show()\n",
        "    # return fig\n",
        "\n",
        "def upload_image(image, name, upload_folder_id):\n",
        "    file_name = test_name + \".png\"\n",
        "    file_image = drive.CreateFile({\"title\": file_name, \"mimeType\": \"png\", \"parents\":  [{\"kind\": \"drive#fileLink\",\"id\": upload_folder_id}]})\n",
        "    file_image.SetContentFile(image) #Set the content to the taken image\n",
        "    file_image.Upload()\n",
        "\n",
        "def std(nums):\n",
        "    Sum = sum(nums)\n",
        "    dev = 0\n",
        "    for num in nums:\n",
        "      dev = (num - Sum)**2\n",
        "    return math.sqrt(dev/(len(nums)-1))\n",
        "    "
      ],
      "execution_count": 0,
      "outputs": []
    },
    {
      "cell_type": "code",
      "metadata": {
        "id": "xwfcj8fhkLit",
        "colab_type": "code",
        "colab": {}
      },
      "source": [
        "# kreas functions\n",
        "def root_mean_squared_error(y_true, y_pred):\n",
        "        return K.sqrt(K.mean(K.square(y_pred - y_true)))\n",
        "\n",
        "def r2_keras(y_true, y_pred):\n",
        "    SS_res =  K.sum(K.square(y_true - y_pred)) \n",
        "    SS_tot = K.sum(K.square(y_true - K.mean(y_true)))\n",
        "    return ( 1 - SS_res/(SS_tot + K.epsilon()) )"
      ],
      "execution_count": 0,
      "outputs": []
    },
    {
      "cell_type": "code",
      "metadata": {
        "id": "zi__PahjVfHk",
        "colab_type": "code",
        "colab": {}
      },
      "source": [
        "# nn_model\n",
        "test_name = \"tanh_4l_16-32-32-16\"\n",
        "\n",
        "class build_model:\n",
        "    def create_nn_model(self, input_shape):\n",
        "        inp = Input(shape=(input_shape,))\n",
        "\n",
        "        x = Dense(16)(inp)\n",
        "        x = BatchNormalization()(x)\n",
        "        x = Activation(\"tanh\")(x)\n",
        "        # x = Dropout(0.4)(x)\n",
        "\n",
        "        x = Dense(32)(x)\n",
        "        x = BatchNormalization()(x)\n",
        "        x = Activation(\"tanh\")(x)\n",
        "        # x = Dropout(0.2)(x)\n",
        "\n",
        "        x = Dense(32)(x)\n",
        "        x = BatchNormalization()(x)\n",
        "        x = Activation(\"tanh\")(x)\n",
        "        # # x = Dropout(0.4)(x)\n",
        "\n",
        "        x = Dense(16)(x)\n",
        "        x = BatchNormalization()(x)\n",
        "        x = Activation(\"tanh\")(x)\n",
        "        # x = Dropout(0.4)(x)\n",
        "\n",
        "        # x = Dense(8)(x)\n",
        "        # x = BatchNormalization()(x)\n",
        "        # x = Activation(\"tanh\")(x)\n",
        "        # x = LeakyReLU(alpha=0.05)(x)\n",
        "        # x = Dropout(0.4)(x)\n",
        "\n",
        "        # x = Dense(256)(x)\n",
        "        # x = BatchNormalization()(x)\n",
        "        # x = Activation(\"tanh\")(x)\n",
        "        # # x = LeakyReLU(alpha=0.05)(x)\n",
        "        # # x = Dropout(0.4)(x)\n",
        "\n",
        "        # x = Dense(64)(x)\n",
        "        # x = BatchNormalization()(x)\n",
        "        # x = Activation(\"tanh\")(x)\n",
        "        # # x = LeakyReLU(alpha=0.05)(x)\n",
        "        # # x = Dropout(0.2)(x)\n",
        "\n",
        "        # x = Dense(32)(x)\n",
        "        # x = BatchNormalization()(x)\n",
        "        # x = Activation(\"tanh\")(x)\n",
        "        # # x = LeakyReLU(alpha=0.05)(x)\n",
        "\n",
        "        # x = Dense(16)(x)\n",
        "        # x = BatchNormalization()(x)\n",
        "        # x = Activation(\"tanh\")(x)\n",
        "        # x = LeakyReLU(alpha=0.05)(x)\n",
        "        # x = Dropout(0.2)(x)\n",
        "\n",
        "        out = Dense(1, activation=\"linear\")(x)# 28 days    \n",
        "        model = Model(inputs= inp, outputs= out)\n",
        "        return model"
      ],
      "execution_count": 0,
      "outputs": []
    },
    {
      "cell_type": "code",
      "metadata": {
        "id": "yFTN8N2PVny4",
        "colab_type": "code",
        "outputId": "0ff64afc-9cd1-448e-bdf8-fa7b3584b2f8",
        "colab": {
          "base_uri": "https://localhost:8080/",
          "height": 90
        }
      },
      "source": [
        "# execute\n",
        "execute = False;\n",
        "text_file_name = \"20191114.txt\"\n",
        "retrain_times = \"\"\n",
        "\n",
        "from datetime import datetime\n",
        "\n",
        "cv_score=[]\n",
        "cv_score_total=0\n",
        "epoch_n = 10000\n",
        "verbose = 0\n",
        "batch_size = 128\n",
        "\n",
        "\n",
        "loss_function = 'mean_squared_error'\n",
        "# loss_function = root_mean_squared_error\n",
        "    \n",
        "# Set to True if we want to train from scratch.  False will reuse saved models as a starting point.\n",
        "retrain = True\n",
        "\n",
        "# Set up GPU preferences\n",
        "config = tf.ConfigProto( device_count = {'GPU': 1 , 'CPU': 2} ) \n",
        "config.gpu_options.allow_growth = True\n",
        "config.gpu_options.per_process_gpu_memory_fraction = 0.6\n",
        "sess = tf.Session(config=config) \n",
        "K.set_session(sess)\n",
        "\n",
        "start_time=datetime.now()\n",
        "\n",
        "# Loop through each molecule type\n",
        "!mkdir -p ~/kaggle/UCLA\n",
        "model_name_rd = ('/root/kaggle/UCLA/concrete_model.hdf5')\n",
        "model_name_wrt = ('/root/kaggle/UCLA/concrete_model.hdf5')\n",
        "\n",
        "# drive.mount(\"/content/gdrive\")\n",
        "# model_name_rd = ('/content/gdrive/My Drive/Saved Models/UCLA/ucla_concrete.hdf5')\n",
        "# model_name_wrt = ('/content/gdrive/My Drive/Saved Models/UCLA/ucla_concrete.hdf5')\n",
        "\n",
        "\n",
        "# Here's our best features.\n",
        "input_features=['AEA Dose (oz/cwt)', 'TYPE AWRA Dose (oz/cwt)', 'W/(C+P)',\n",
        "                'Coarse Agg Percentage', 'Fine Agg Percentage', '%Fly Ash'\n",
        "                ]\n",
        "\n",
        "df_data = shuffle(df_data, random_state = 42)\n",
        "\n",
        "# Standard Scaler from sklearn does seem to work better here than other Scalers\n",
        "input_scaler = StandardScaler() # MinMaxScaler() # RobustScaler()\n",
        "input_data=input_scaler.fit_transform(df_data[input_features])\n",
        "\n",
        "y7_data=df_data[[\"7 Day\"]]\n",
        "y28_data=df_data[[\"28 Day\"]]\n",
        "\n",
        "#following parameters should be adjusted to control the loss function\n",
        "#if all parameters are zero, attractors do not work. (-> simple neural network)\n",
        "m1=1\n",
        "m2=4\n",
        "m3=1\n",
        "target_data=y28_data\n",
        "target_data_1=y7_data\n",
        "target_data=StandardScaler().fit_transform(target_data)\n",
        "target_data_1=m1*(StandardScaler().fit_transform(target_data_1))\n",
        "\n",
        "# Simple split to provide us a validation set to do our CV checks with\n",
        "train_index, cv_index = train_test_split(np.arange(len(df_data)), random_state= 42, test_size=0.2)\n",
        "\n",
        "# Split all our input and targets by train and cv indexes\n",
        "train_input=input_data[train_index]\n",
        "cv_input=input_data[cv_index]\n",
        "\n",
        "train_target=target_data[train_index]\n",
        "cv_target=target_data[cv_index]\n",
        "\n",
        "train_target_1=target_data_1[train_index]\n",
        "cv_target_1=target_data_1[cv_index]\n",
        "\n",
        "## test_input=input_data[len(train_):,:]\n",
        "\n",
        "train_target=target_data[train_index]\n",
        "cv_target=target_data[cv_index]\n",
        "\n",
        "# Build the Neural Net\n",
        "new_model = build_model()\n",
        "nn_model=new_model.create_nn_model(train_input.shape[1])\n",
        "\n",
        "if execute:\n",
        "\n",
        "  # If retrain==False, then we load a previous saved model as a starting point.\n",
        "  if not retrain:\n",
        "      nn_model = load_model(model_name_rd)\n",
        "      \n",
        "  # compile\n",
        "  #nn_model.compile(loss=loss_function, optimizer=Adam())#, metrics='rmse')\n",
        "  nn_model.compile(optimizer = \"rmsprop\", loss = loss_function, metrics =[\"accuracy\"])\n",
        "\n",
        "  # Callback for Early Stopping... May want to raise the min_delta for small numbers of epochs\n",
        "  es = callbacks.EarlyStopping(monitor='val_loss', min_delta=0.0000001, patience=8,verbose=1, mode='auto', restore_best_weights=True)\n",
        "  # Callback for Reducing the Learning Rate... when the monitor levels out for 'patience' epochs, then the LR is reduced\n",
        "  rlr = callbacks.ReduceLROnPlateau(monitor='val_loss', factor=0.1, patience=7, min_lr=1e-6, mode='auto', verbose=1)\n",
        "  # Save the best value of the model for future use\n",
        "  sv_mod = callbacks.ModelCheckpoint(model_name_wrt, monitor='val_loss', save_best_only=True, period=1)\n",
        "\n",
        "  history = nn_model.fit(train_input,train_target, \n",
        "          validation_data=(cv_input,cv_target), \n",
        "          callbacks=[es, rlr, sv_mod], epochs=epoch_n, batch_size=batch_size, verbose=verbose)\n",
        "\n",
        "  # No early stopping\n",
        "  # history = nn_model.fit(train_input,train_target,\n",
        "  #         validation_data=(cv_input,cv_target), \n",
        "  #         callbacks=[rlr, sv_mod], epochs=epoch_n, batch_size=batch_size, verbose=verbose)\n",
        "\n",
        "  cv_predict=nn_model.predict(cv_input)\n",
        "  train_predict=nn_model.predict(train_input)\n",
        "  plot_history(history,\"Concrete\")\n",
        "\n",
        "  accuracy=np.sqrt(np.mean(np.abs(np.square(cv_target)-np.square(cv_predict[:,0]))))\n",
        "  cv_score.append(accuracy)\n",
        "  cv_score_total+=accuracy\n",
        "\n",
        "  end_time=datetime.now()\n",
        "  '''\n",
        "  # Predict on the test data set using our trained model\n",
        "  test_predict=nn_model.predict(test_input)\n",
        "\n",
        "  # for each molecule type we'll grab the predicted values\n",
        "  test_prediction[test[\"type\"]==mol_type]=test_predict[0][:,0]\n",
        "  K.clear_session()\n",
        "  '''\n",
        "  ####\n",
        "  #cv_score_total/=len(mol_types)\n",
        "\n",
        "\n",
        "  # upload_image(image, test_name, id_up)\n",
        "\n",
        "  processing_time = end_time - start_time\n",
        "  # validation\n",
        "  r2_v = r2_score(cv_target, cv_predict)\n",
        "  mse_v = mean_squared_error(cv_target, cv_predict)\n",
        "  rmse_v = math.sqrt(mse_v)\n",
        "  # Training\n",
        "  r2_t = r2_score(train_target, train_predict)\n",
        "  mse_t = mean_squared_error(train_target, train_predict)\n",
        "  rmse_t = math.sqrt(mse_t)\n",
        "\n",
        "  record =[\"Test: {}\".format(test_name+retrain_times),\n",
        "          \"Recording time: {}\".format(datetime.now()),\n",
        "          \"Duriation: {}\".format(processing_time),\n",
        "          \"-------------------------\",\n",
        "          \"cv_r2: {}\".format(r2_v),\n",
        "          \"cv_mse: {}\".format(mse_v),\n",
        "          \"cv_rmse: {}\".format(rmse_v),\n",
        "          \"-------------------------\",\n",
        "          \"train_r2: {}\".format(r2_t),\n",
        "          \"train_mse: {}\".format(mse_t),\n",
        "          \"train_rmse: {}\".format(rmse_t),\n",
        "          ]\n",
        "\n",
        "  with open(r\"/content/gdrive/My Drive/UCLA/_Lab/results/\"+text_file_name, \"a+\") as file:\n",
        "    for line in record:\n",
        "      file.write(line + \"\\n\")\n",
        "      print(line)\n",
        "    file.write(\"\\n\")\n"
      ],
      "execution_count": 0,
      "outputs": [
        {
          "output_type": "stream",
          "text": [
            "WARNING:tensorflow:From /usr/local/lib/python3.6/dist-packages/tensorflow_core/python/ops/resource_variable_ops.py:1630: calling BaseResourceVariable.__init__ (from tensorflow.python.ops.resource_variable_ops) with constraint is deprecated and will be removed in a future version.\n",
            "Instructions for updating:\n",
            "If using Keras pass *_constraint arguments to layers.\n"
          ],
          "name": "stdout"
        }
      ]
    },
    {
      "cell_type": "code",
      "metadata": {
        "id": "KucyffJbC5Ca",
        "colab_type": "code",
        "colab": {}
      },
      "source": [
        "report_again = False\n",
        "if report_again:\n",
        "  text_file_name = \"20191114.txt\"\n",
        "  retrain_times = \"\"\n",
        "\n",
        "  # upload_image(image, test_name, id_up)\n",
        "\n",
        "  processing_time = end_time - start_time\n",
        "  # validation\n",
        "  r2_v = r2_score(cv_target, cv_predict)\n",
        "  mse_v = mean_squared_error(cv_target, cv_predict)\n",
        "  rmse_v = math.sqrt(mse_v)\n",
        "  # Training\n",
        "  r2_t = r2_score(train_target, train_predict)\n",
        "  mse_t = mean_squared_error(train_target, train_predict)\n",
        "  rmse_t = math.sqrt(mse_t)\n",
        "\n",
        "  record =[\"Test: {}\".format(test_name+retrain_times),\n",
        "          \"Recording time: {}\".format(datetime.now()),\n",
        "          \"Duriation: {}\".format(processing_time),\n",
        "          \"-------------------------\",\n",
        "          \"cv_r2: {}\".format(r2_v),\n",
        "          \"cv_mse: {}\".format(mse_v),\n",
        "          \"cv_rmse: {}\".format(rmse_v),\n",
        "          \"-------------------------\",\n",
        "          \"train_r2: {}\".format(r2_t),\n",
        "          \"train_mse: {}\".format(mse_t),\n",
        "          \"train_rmse: {}\".format(rmse_t),\n",
        "          ]\n",
        "\n",
        "  with open(r\"/content/gdrive/My Drive/UCLA/_Lab/results/\"+text_file_name, \"a+\") as file:\n",
        "    for line in record:\n",
        "      file.write(line + \"\\n\")\n",
        "      print(line)\n",
        "    file.write(\"\\n\")"
      ],
      "execution_count": 0,
      "outputs": []
    },
    {
      "cell_type": "code",
      "metadata": {
        "colab_type": "code",
        "id": "9b0WEVL1BHt3",
        "colab": {}
      },
      "source": [
        "# Cross Validation\n",
        "cross_validation = False\n",
        "# Set to True if we want to train from scratch.  False will reuse saved models as a starting point.\n",
        "retrain = True\n",
        "from datetime import datetime\n",
        "\n",
        "cv_score=[]\n",
        "cv_score_total=0\n",
        "epoch_n = 10000\n",
        "verbose = 0\n",
        "batch_size = 128\n",
        "\n",
        "loss_function = 'mean_squared_error'\n",
        "\n",
        "# Loop through each molecule type\n",
        "!mkdir -p ~/kaggle/UCLA\n",
        "model_name_rd = ('/root/kaggle/UCLA/concrete_model.hdf5')\n",
        "model_name_wrt = ('/root/kaggle/UCLA/concrete_model.hdf5')\n",
        "\n",
        "Kfold = KFold(n_splits=5, random_state=42, shuffle=True)\n",
        "# If cv sets to True, applying cv training\n",
        "if cross_validation:\n",
        "  start_time=datetime.now()\n",
        "  cv_no = 0\n",
        "  rmse_s = []\n",
        "  r2_s = []\n",
        "\n",
        "  for train_index, cv_index in Kfold.split(np.arange(len(df_data))):\n",
        "    cv_no += 1\n",
        "\n",
        "    train_input=input_data[train_index]\n",
        "    cv_input=input_data[cv_index]\n",
        "\n",
        "    train_target=target_data[train_index]\n",
        "    cv_target=target_data[cv_index]\n",
        "\n",
        "    # Build the Neural Net\n",
        "    new_model = build_model()\n",
        "    nn_model=new_model.create_nn_model(train_input.shape[1])\n",
        "\n",
        "    # If retrain==False, then we load a previous saved model as a starting point.\n",
        "    if not retrain:\n",
        "        nn_model = load_model(model_name_rd)\n",
        "        \n",
        "    # If retrain==False, then we load a previous saved model as a starting point.\n",
        "    if not retrain:\n",
        "        nn_model = load_model(model_name_rd)\n",
        "    # compile\n",
        "    #nn_model.compile(loss=loss_function, optimizer=Adam())#, metrics='rmse')\n",
        "    nn_model.compile(optimizer = \"rmsprop\", loss = loss_function, metrics =[\"accuracy\"])\n",
        "\n",
        "    # Callback for Early Stopping... May want to raise the min_delta for small numbers of epochs\n",
        "    es = callbacks.EarlyStopping(monitor='val_loss', min_delta=0.0000001, patience=8,verbose=1, mode='auto', restore_best_weights=True)\n",
        "    # Callback for Reducing the Learning Rate... when the monitor levels out for 'patience' epochs, then the LR is reduced\n",
        "    rlr = callbacks.ReduceLROnPlateau(monitor='val_loss', factor=0.1, patience=7, min_lr=1e-6, mode='auto', verbose=1)\n",
        "    # Save the best value of the model for future use\n",
        "    sv_mod = callbacks.ModelCheckpoint(model_name_wrt, monitor='val_loss', save_best_only=True, period=1)\n",
        "\n",
        "    history = nn_model.fit(train_input,train_target, \n",
        "            validation_data=(cv_input,cv_target), \n",
        "            callbacks=[es, rlr, sv_mod], epochs=epoch_n, batch_size=batch_size, verbose=verbose)\n",
        "    \n",
        "    cv_predict=nn_model.predict(cv_input)\n",
        "    train_predict=nn_model.predict(train_input)\n",
        "    plot_history(history,\"Concrete %s\" %cv_no)\n",
        "\n",
        "    end_time=datetime.now()\n",
        "    processing_time = end_time - start_time\n",
        "    # validation\n",
        "    r2_v = r2_score(cv_target, cv_predict)\n",
        "    mse_v = mean_squared_error(cv_target, cv_predict)\n",
        "    rmse_v = math.sqrt(mse_v)\n",
        "    # Training\n",
        "    r2_t = r2_score(train_target, train_predict)\n",
        "    mse_t = mean_squared_error(train_target, train_predict)\n",
        "    rmse_t = math.sqrt(mse_t)\n",
        "\n",
        "    record =[\"Test: {}\".format(test_name+retrain_times),\n",
        "            \"Recording time: {}\".format(datetime.now()),\n",
        "            \"Duriation: {}\".format(processing_time),\n",
        "            \"-------------------------\",\n",
        "            \"cv_r2: {}\".format(r2_v),\n",
        "            \"cv_mse: {}\".format(mse_v),\n",
        "            \"cv_rmse: {}\".format(rmse_v),\n",
        "            \"-------------------------\",\n",
        "            \"train_r2: {}\".format(r2_t),\n",
        "            \"train_mse: {}\".format(mse_t),\n",
        "            \"train_rmse: {}\".format(rmse_t),\n",
        "            ]\n",
        "    for line in record:\n",
        "      # file.write(line + \"\\n\")\n",
        "      print(line)\n",
        "    print('\\n')\n",
        "    r2_s.append(r2_v)\n",
        "    rmse_s.append(rmse_v)\n",
        "\n",
        "    retrain = False\n",
        "\n",
        "  print(\"R2 (cross validation): {}\".format(sum(r2_s)/cv_no))\n",
        "  print(\"RMSE (cross validation): {}\".format(sum(rmse_s)/cv_no))"
      ],
      "execution_count": 0,
      "outputs": []
    },
    {
      "cell_type": "code",
      "metadata": {
        "id": "sRr1gXIHO55E",
        "colab_type": "code",
        "colab": {}
      },
      "source": [
        "# nn_model\n",
        "num_of_layers = \"1l\"\n",
        "\n",
        "class build_model:\n",
        "    def create_nn_model(self, input_shape, num_of_nodes):\n",
        "        inp = Input(shape=(input_shape,))\n",
        "\n",
        "        x = Dense(num_of_nodes)(inp)\n",
        "        x = BatchNormalization()(x)\n",
        "        x = Activation(\"tanh\")(x)\n",
        "        # x = Dropout(0.4)(x)\n",
        "\n",
        "        # x = Dense(num_of_nodes)(x)\n",
        "        # x = BatchNormalization()(x)\n",
        "        # x = Activation(\"tanh\")(x)\n",
        "        # # x = Dropout(0.4)(x)\n",
        "\n",
        "        # x = Dense(num_of_nodes)(x)\n",
        "        # x = BatchNormalization()(x)\n",
        "        # x = Activation(\"tanh\")(x)\n",
        "        # # x = Dropout(0.4)(x)\n",
        "\n",
        "        # x = Dense(num_of_nodes)(x)\n",
        "        # x = BatchNormalization()(x)\n",
        "        # x = Activation(\"tanh\")(x)\n",
        "        # # x = Dropout(0.4)(x)\n",
        "\n",
        "        # x = Dense(num_of_nodes)(x)\n",
        "        # x = BatchNormalization()(x)\n",
        "        # x = Activation(\"tanh\")(x)\n",
        "        # # x = Dropout(0.4)(x)\n",
        "\n",
        "        # x = Dense(num_of_nodes)(x)\n",
        "        # x = BatchNormalization()(x)\n",
        "        # x = Activation(\"tanh\")(x)\n",
        "        # # x = Dropout(0.4)(x)\n",
        "\n",
        "        out = Dense(1, activation=\"linear\")(x)# 28 days    \n",
        "        model = Model(inputs= inp, outputs= out)\n",
        "        return model"
      ],
      "execution_count": 0,
      "outputs": []
    },
    {
      "cell_type": "code",
      "metadata": {
        "id": "PJ5_vMogmsEf",
        "colab_type": "code",
        "cellView": "code",
        "outputId": "a2dde3ff-0cb1-47ab-e5f5-f07112c83106",
        "colab": {
          "base_uri": "https://localhost:8080/",
          "height": 1000
        }
      },
      "source": [
        "#@title Default title text\n",
        "text_file_name = \"20191212.txt\"\n",
        "retrain_times = \"\"\n",
        "\n",
        "# Cross Validation\n",
        "cross_validation = True\n",
        "# Set to True if we want to train from scratch.  False will reuse saved models as a starting point.\n",
        "retrain = True\n",
        "\n",
        "numOfTraining = 1\n",
        "\n",
        "from datetime import datetime\n",
        "\n",
        "# If cv sets to True, applying cv training\n",
        "if cross_validation:\n",
        "\n",
        "  cv_score=[]\n",
        "  cv_score_total=0\n",
        "  epoch_n = 10000\n",
        "  verbose = 0\n",
        "  batch_size = 128\n",
        "\n",
        "  loss_function = 'mean_squared_error'\n",
        "\n",
        "  \n",
        "  rmse_sum = []\n",
        "  r2_sum = []\n",
        "\n",
        "  for i in range(0,numOfTraining):\n",
        "    start_time=datetime.now()\n",
        "\n",
        "    for nodes in range(24, 33, 8):\n",
        "      rmse_result = []\n",
        "      r2_result = []\n",
        "      cv_no = 0\n",
        "\n",
        "      Kfold = KFold(n_splits=5, random_state=42, shuffle=True)\n",
        "      Kfold_split = Kfold.split(np.arange(len(df_data)))\n",
        "\n",
        "      for train_index, cv_index in Kfold_split:\n",
        "        cv_no += 1\n",
        "\n",
        "        train_input=input_data[train_index]\n",
        "        cv_input=input_data[cv_index]\n",
        "\n",
        "        train_target=target_data[train_index]\n",
        "        cv_target=target_data[cv_index]\n",
        "\n",
        "\n",
        "        # Loop through each molecule type\n",
        "        !mkdir -p ~/kaggle/UCLA\n",
        "        model_name_rd = ('/root/kaggle/UCLA/concrete_model_%s.hdf5' %cv_no)\n",
        "        model_name_wrt = ('/root/kaggle/UCLA/concrete_model_%s.hdf5' %cv_no)\n",
        "\n",
        "        # Build the Neural Net\n",
        "        new_model = build_model()\n",
        "        nn_model=new_model.create_nn_model(train_input.shape[1], nodes)\n",
        "\n",
        "        # If retrain==False, then we load a previous saved model as a starting point.\n",
        "        if not retrain:\n",
        "            nn_model = load_model(model_name_rd)\n",
        "\n",
        "        # compile\n",
        "        #nn_model.compile(loss=loss_function, optimizer=Adam())#, metrics='rmse')\n",
        "        nn_model.compile(optimizer = \"rmsprop\", loss = loss_function, metrics =[\"accuracy\"])\n",
        "\n",
        "        # Callback for Early Stopping... May want to raise the min_delta for small numbers of epochs\n",
        "        es = callbacks.EarlyStopping(monitor='val_loss', min_delta=0.0000001, patience=8,verbose=1, mode='auto', restore_best_weights=True)\n",
        "        # Callback for Reducing the Learning Rate... when the monitor levels out for 'patience' epochs, then the LR is reduced\n",
        "        rlr = callbacks.ReduceLROnPlateau(monitor='val_loss', factor=0.1, patience=7, min_lr=1e-6, mode='auto', verbose=1)\n",
        "        # Save the best value of the model for future use\n",
        "        sv_mod = callbacks.ModelCheckpoint(model_name_wrt, monitor='val_loss', save_best_only=True, period=1)\n",
        "\n",
        "        history = nn_model.fit(train_input,train_target, \n",
        "                validation_data=(cv_input,cv_target), \n",
        "                callbacks=[es, rlr, sv_mod], epochs=epoch_n, batch_size=batch_size, verbose=verbose)\n",
        "        \n",
        "        cv_predict=nn_model.predict(cv_input)\n",
        "        train_predict=nn_model.predict(train_input)\n",
        "        plot_history(history,\"%s_nodes CV_%s Train# %s\" %(nodes, cv_no, i+1))\n",
        "\n",
        "        end_time=datetime.now()\n",
        "        processing_time = end_time - start_time\n",
        "        # validation\n",
        "        r2_v = r2_score(cv_target, cv_predict)\n",
        "        mse_v = mean_squared_error(cv_target, cv_predict)\n",
        "        rmse_v = math.sqrt(mse_v)\n",
        "        # Training\n",
        "        r2_t = r2_score(train_target, train_predict)\n",
        "        mse_t = mean_squared_error(train_target, train_predict)\n",
        "        rmse_t = math.sqrt(mse_t)\n",
        "\n",
        "        test_name = \"tanh_\" + num_of_layers + \"_\" + str(nodes) + \"_cv_\" + str(cv_no)\n",
        "        record =[\"Test: {}\".format(test_name+retrain_times),\n",
        "                \"Recording time: {}\".format(datetime.now()),\n",
        "                \"Duriation: {}\".format(processing_time),\n",
        "                \"-------------------------\",\n",
        "                \"cv_r2: {}\".format(r2_v),\n",
        "                \"cv_mse: {}\".format(mse_v),\n",
        "                \"cv_rmse: {}\".format(rmse_v),\n",
        "                \"-------------------------\",\n",
        "                \"train_r2: {}\".format(r2_t),\n",
        "                \"train_mse: {}\".format(mse_t),\n",
        "                \"train_rmse: {}\".format(rmse_t),\n",
        "                ]\n",
        "        \n",
        "        with open(r\"/content/gdrive/My Drive/UCLA/_Lab/results/\"+text_file_name, \"a+\") as file:\n",
        "          for line in record:\n",
        "            file.write(line + \"\\n\")\n",
        "            print(line)\n",
        "          file.write(\"\\n\")\n",
        "        print('\\n')\n",
        "        r2_result.append(r2_v)\n",
        "        rmse_result.append(rmse_v)\n",
        "        r2_sum.append(r2_v)\n",
        "        rmse_sum.append(rmse_v)\n",
        "  \n",
        "      print(\"Training # %d\" %(i+1))\n",
        "      print(\"R2 (cross validation) mean: {} , STD: {}\".format(sum(r2_result)/cv_no), std(r2_result))\n",
        "      print(\"RMSE (cross validation): {}\".format(sum(rmse_result)/cv_no), std(rmse_result))\n",
        "      print('\\n')\n",
        "    \n",
        "    retrain = False\n",
        "\n",
        "\n",
        "  print(\"R2 (cross validation): {}\".format(sum(r2_sum)/cv_no/numOfTraining))\n",
        "  print(\"RMSE (cross validation): {}\".format(sum(rmse_sum)/cv_no/numOfTraining))"
      ],
      "execution_count": 0,
      "outputs": [
        {
          "output_type": "stream",
          "text": [
            "WARNING:tensorflow:`period` argument is deprecated. Please use `save_freq` to specify the frequency in number of samples seen.\n",
            "\n",
            "Epoch 00059: ReduceLROnPlateau reducing learning rate to 0.00010000000474974513.\n",
            "Restoring model weights from the end of the best epoch.\n",
            "Epoch 00060: early stopping\n"
          ],
          "name": "stdout"
        },
        {
          "output_type": "display_data",
          "data": {
            "image/png": "[encoded data removed]",
            "text/plain": [
              "<Figure size 432x288 with 1 Axes>"
            ]
          },
          "metadata": {
            "tags": []
          }
        },
        {
          "output_type": "stream",
          "text": [
            "Test: tanh_1l_24\n",
            "Recording time: 2019-12-11 08:04:41.858561\n",
            "Duriation: 0:00:15.264600\n",
            "-------------------------\n",
            "cv_r2: 0.6067996282896009\n",
            "cv_mse: 0.395467075894891\n",
            "cv_rmse: 0.6288617303468951\n",
            "-------------------------\n",
            "train_r2: 0.5940273793929078\n",
            "train_mse: 0.40534183321190637\n",
            "train_rmse: 0.6366646159571823\n",
            "\n",
            "\n",
            "WARNING:tensorflow:`period` argument is deprecated. Please use `save_freq` to specify the frequency in number of samples seen.\n",
            "\n",
            "Epoch 00076: ReduceLROnPlateau reducing learning rate to 0.00010000000474974513.\n",
            "Restoring model weights from the end of the best epoch.\n",
            "Epoch 00077: early stopping\n"
          ],
          "name": "stdout"
        },
        {
          "output_type": "display_data",
          "data": {
            "image/png": "[encoded data removed]",
            "text/plain": [
              "<Figure size 432x288 with 1 Axes>"
            ]
          },
          "metadata": {
            "tags": []
          }
        },
        {
          "output_type": "stream",
          "text": [
            "Test: tanh_1l_24\n",
            "Recording time: 2019-12-11 08:04:58.164925\n",
            "Duriation: 0:00:31.570525\n",
            "-------------------------\n",
            "cv_r2: 0.6034409066712678\n",
            "cv_mse: 0.3906287596463218\n",
            "cv_rmse: 0.6250030077098204\n",
            "-------------------------\n",
            "train_r2: 0.6064812268461417\n",
            "train_mse: 0.39497812698650814\n",
            "train_rmse: 0.6284728530227126\n",
            "\n",
            "\n",
            "WARNING:tensorflow:`period` argument is deprecated. Please use `save_freq` to specify the frequency in number of samples seen.\n",
            "\n",
            "Epoch 00069: ReduceLROnPlateau reducing learning rate to 0.00010000000474974513.\n",
            "Restoring model weights from the end of the best epoch.\n",
            "Epoch 00070: early stopping\n"
          ],
          "name": "stdout"
        },
        {
          "output_type": "display_data",
          "data": {
            "image/png": "[encoded data removed]",
            "text/plain": [
              "<Figure size 432x288 with 1 Axes>"
            ]
          },
          "metadata": {
            "tags": []
          }
        },
        {
          "output_type": "stream",
          "text": [
            "Test: tanh_1l_24\n",
            "Recording time: 2019-12-11 08:05:12.882503\n",
            "Duriation: 0:00:46.288169\n",
            "-------------------------\n",
            "cv_r2: 0.6067521391048551\n",
            "cv_mse: 0.3993073123109008\n",
            "cv_rmse: 0.6319076770469724\n",
            "-------------------------\n",
            "train_r2: 0.6024460466003145\n",
            "train_mse: 0.3960225207331968\n",
            "train_rmse: 0.629303202544844\n",
            "\n",
            "\n",
            "WARNING:tensorflow:`period` argument is deprecated. Please use `save_freq` to specify the frequency in number of samples seen.\n",
            "\n",
            "Epoch 00078: ReduceLROnPlateau reducing learning rate to 0.00010000000474974513.\n",
            "\n",
            "Epoch 00103: ReduceLROnPlateau reducing learning rate to 1.0000000474974514e-05.\n",
            "Restoring model weights from the end of the best epoch.\n",
            "\n",
            "Epoch 00110: ReduceLROnPlateau reducing learning rate to 1.0000000656873453e-06.\n",
            "Epoch 00110: early stopping\n"
          ],
          "name": "stdout"
        },
        {
          "output_type": "display_data",
          "data": {
            "image/png": "[encoded data removed]",
            "text/plain": [
              "<Figure size 432x288 with 1 Axes>"
            ]
          },
          "metadata": {
            "tags": []
          }
        },
        {
          "output_type": "stream",
          "text": [
            "Test: tanh_1l_24\n",
            "Recording time: 2019-12-11 08:05:34.390707\n",
            "Duriation: 0:01:07.797068\n",
            "-------------------------\n",
            "cv_r2: 0.5924440804529623\n",
            "cv_mse: 0.40703195286877897\n",
            "cv_rmse: 0.6379905586047327\n",
            "-------------------------\n",
            "train_r2: 0.6141641183403184\n",
            "train_mse: 0.38595890237436087\n",
            "train_rmse: 0.6212559073154644\n",
            "\n",
            "\n",
            "WARNING:tensorflow:`period` argument is deprecated. Please use `save_freq` to specify the frequency in number of samples seen.\n",
            "\n",
            "Epoch 00061: ReduceLROnPlateau reducing learning rate to 0.00010000000474974513.\n",
            "Restoring model weights from the end of the best epoch.\n",
            "Epoch 00062: early stopping\n"
          ],
          "name": "stdout"
        },
        {
          "output_type": "display_data",
          "data": {
            "image/png": "[encoded data removed]",
            "text/plain": [
              "<Figure size 432x288 with 1 Axes>"
            ]
          },
          "metadata": {
            "tags": []
          }
        },
        {
          "output_type": "stream",
          "text": [
            "Test: tanh_1l_24\n",
            "Recording time: 2019-12-11 08:05:47.931917\n",
            "Duriation: 0:01:21.330628\n",
            "-------------------------\n",
            "cv_r2: 0.5823174842728162\n",
            "cv_mse: 0.41504983123822153\n",
            "cv_rmse: 0.6442436117170441\n",
            "-------------------------\n",
            "train_r2: 0.605875971863441\n",
            "train_mse: 0.3946336210923505\n",
            "train_rmse: 0.6281987114698266\n",
            "\n",
            "\n",
            "Training # 1\n",
            "R2 (cross validation): 0.5983508477583005\n",
            "RMSE (cross validation): 0.6336013170850928\n",
            "\n",
            "\n",
            "WARNING:tensorflow:`period` argument is deprecated. Please use `save_freq` to specify the frequency in number of samples seen.\n",
            "\n",
            "Epoch 00056: ReduceLROnPlateau reducing learning rate to 0.00010000000474974513.\n",
            "\n",
            "Epoch 00066: ReduceLROnPlateau reducing learning rate to 1.0000000474974514e-05.\n",
            "Restoring model weights from the end of the best epoch.\n",
            "Epoch 00067: early stopping\n"
          ],
          "name": "stdout"
        },
        {
          "output_type": "display_data",
          "data": {
            "image/png": "[encoded data removed]",
            "text/plain": [
              "<Figure size 432x288 with 1 Axes>"
            ]
          },
          "metadata": {
            "tags": []
          }
        },
        {
          "output_type": "stream",
          "text": [
            "Test: tanh_1l_32\n",
            "Recording time: 2019-12-11 08:06:02.510402\n",
            "Duriation: 0:01:35.916328\n",
            "-------------------------\n",
            "cv_r2: 0.6108857739363713\n",
            "cv_mse: 0.39135737461566866\n",
            "cv_rmse: 0.6255856253269161\n",
            "-------------------------\n",
            "train_r2: 0.6087183591726213\n",
            "train_mse: 0.3906736798111101\n",
            "train_rmse: 0.625038942635665\n",
            "\n",
            "\n",
            "WARNING:tensorflow:`period` argument is deprecated. Please use `save_freq` to specify the frequency in number of samples seen.\n",
            "\n",
            "Epoch 00049: ReduceLROnPlateau reducing learning rate to 0.00010000000474974513.\n",
            "Restoring model weights from the end of the best epoch.\n",
            "Epoch 00050: early stopping\n"
          ],
          "name": "stdout"
        },
        {
          "output_type": "display_data",
          "data": {
            "image/png": "[encoded data removed]",
            "text/plain": [
              "<Figure size 432x288 with 1 Axes>"
            ]
          },
          "metadata": {
            "tags": []
          }
        },
        {
          "output_type": "stream",
          "text": [
            "Test: tanh_1l_32\n",
            "Recording time: 2019-12-11 08:06:14.366849\n",
            "Duriation: 0:01:47.769797\n",
            "-------------------------\n",
            "cv_r2: 0.600420901965921\n",
            "cv_mse: 0.39360360176196524\n",
            "cv_rmse: 0.6273783561472018\n",
            "-------------------------\n",
            "train_r2: 0.603108167818922\n",
            "train_mse: 0.39836369491280704\n",
            "train_rmse: 0.6311605935994475\n",
            "\n",
            "\n",
            "WARNING:tensorflow:`period` argument is deprecated. Please use `save_freq` to specify the frequency in number of samples seen.\n",
            "\n",
            "Epoch 00078: ReduceLROnPlateau reducing learning rate to 0.00010000000474974513.\n",
            "Restoring model weights from the end of the best epoch.\n",
            "Epoch 00079: early stopping\n"
          ],
          "name": "stdout"
        },
        {
          "output_type": "display_data",
          "data": {
            "image/png": "[encoded data removed]",
            "text/plain": [
              "<Figure size 432x288 with 1 Axes>"
            ]
          },
          "metadata": {
            "tags": []
          }
        },
        {
          "output_type": "stream",
          "text": [
            "Test: tanh_1l_32\n",
            "Recording time: 2019-12-11 08:06:31.121151\n",
            "Duriation: 0:02:04.524872\n",
            "-------------------------\n",
            "cv_r2: 0.6126878519531219\n",
            "cv_mse: 0.39328013764631264\n",
            "cv_rmse: 0.627120512857228\n",
            "-------------------------\n",
            "train_r2: 0.6146845362672011\n",
            "train_mse: 0.383831175416666\n",
            "train_rmse: 0.6195411006677976\n",
            "\n",
            "\n",
            "WARNING:tensorflow:`period` argument is deprecated. Please use `save_freq` to specify the frequency in number of samples seen.\n",
            "\n",
            "Epoch 00096: ReduceLROnPlateau reducing learning rate to 0.00010000000474974513.\n",
            "Restoring model weights from the end of the best epoch.\n",
            "Epoch 00097: early stopping\n"
          ],
          "name": "stdout"
        },
        {
          "output_type": "display_data",
          "data": {
            "image/png": "[encoded data removed]",
            "text/plain": [
              "<Figure size 432x288 with 1 Axes>"
            ]
          },
          "metadata": {
            "tags": []
          }
        },
        {
          "output_type": "stream",
          "text": [
            "Test: tanh_1l_32\n",
            "Recording time: 2019-12-11 08:06:51.167058\n",
            "Duriation: 0:02:24.572448\n",
            "-------------------------\n",
            "cv_r2: 0.5958454156363686\n",
            "cv_mse: 0.4036349905486097\n",
            "cv_rmse: 0.6353227451843745\n",
            "-------------------------\n",
            "train_r2: 0.6203750568678881\n",
            "train_mse: 0.37974598353823835\n",
            "train_rmse: 0.6162353312966065\n",
            "\n",
            "\n",
            "WARNING:tensorflow:`period` argument is deprecated. Please use `save_freq` to specify the frequency in number of samples seen.\n",
            "\n",
            "Epoch 00041: ReduceLROnPlateau reducing learning rate to 0.00010000000474974513.\n",
            "Restoring model weights from the end of the best epoch.\n",
            "Epoch 00042: early stopping\n"
          ],
          "name": "stdout"
        },
        {
          "output_type": "display_data",
          "data": {
            "image/png": "[encoded data removed]",
            "text/plain": [
              "<Figure size 432x288 with 1 Axes>"
            ]
          },
          "metadata": {
            "tags": []
          }
        },
        {
          "output_type": "stream",
          "text": [
            "Test: tanh_1l_32\n",
            "Recording time: 2019-12-11 08:07:02.290707\n",
            "Duriation: 0:02:35.697019\n",
            "-------------------------\n",
            "cv_r2: 0.5822300366272514\n",
            "cv_mse: 0.4151367276946621\n",
            "cv_rmse: 0.6443110488689932\n",
            "-------------------------\n",
            "train_r2: 0.6059827684823935\n",
            "train_mse: 0.39452668638792016\n",
            "train_rmse: 0.6281135935385574\n",
            "\n",
            "\n",
            "Training # 1\n",
            "R2 (cross validation): 0.6004139960238069\n",
            "RMSE (cross validation): 0.6319436576769426\n",
            "\n",
            "\n",
            "R2 (cross validation): 1.1987648437821075\n",
            "RMSE (cross validation): 1.2655449747620355\n"
          ],
          "name": "stdout"
        }
      ]
    },
    {
      "cell_type": "code",
      "metadata": {
        "id": "Vo4Rsx8uFadF",
        "colab_type": "code",
        "colab": {}
      },
      "source": [
        "#Validation function\n",
        "n_folds = 5\n",
        "\n",
        "def rmse_cv(model, train, y):\n",
        "    estimator = KerasRegressor(build_fn = model.create_nn_model, epochs = 500, batch_size = 512, verbose = 0)\n",
        "    kf = KFold(n_folds, shuffle=True, random_state=42).get_n_splits(train)#.values)\n",
        "    rmse= np.sqrt(-cross_val_score(estimator, train, y, scoring=\"neg_mean_squared_error\", cv = kf))\n",
        "    return(rmse)"
      ],
      "execution_count": 0,
      "outputs": []
    },
    {
      "cell_type": "code",
      "metadata": {
        "id": "ayc58QoBJHZD",
        "colab_type": "code",
        "colab": {}
      },
      "source": [
        "# evaluate model\n",
        "# estimator = KerasRegressor(build_fn=baseline_model, epochs=100, batch_size=5, verbose=0)\n",
        "# kfold = KFold(n_splits=5)\n",
        "# results = cross_val_score(estimator, X, Y, cv=kfold)\n",
        "# print(\"Baseline: %.2f (%.2f) MSE\" % (results.mean(), results.std()))"
      ],
      "execution_count": 0,
      "outputs": []
    },
    {
      "cell_type": "code",
      "metadata": {
        "id": "m1i4-Fmp2H7a",
        "colab_type": "code",
        "colab": {}
      },
      "source": [
        "# loss_function = 'mean_squared_error'\n",
        "\n",
        "# input_model = build_model(train_input.shape[1])\n",
        "# model = input_model.create_nn_model()\n",
        "# model.compile(loss=loss_function, optimizer=Adam())\n",
        "# #train_rmse = root_mean_squared_error(train_target, cv_predict[:,0])\n",
        "# #train_r2 = r2_keras(train_target, cv_predict[:,0])\n",
        "\n",
        "# #test_rmse = rmsle_cv(cv_target, cv_predict[:,0])\n",
        "# #test_r2 = rmsle_cv(cv_target, cv_predict[:,0])\n",
        "\n",
        "# test_rmse = rmse_cv(input_model, cv_input, cv_target)\n",
        "\n",
        "# #print(\"RMSE of the training set: %\".format(train_rmse))\n",
        "# #print(\"R2 of the training set: %\".format(train_r2))\n",
        "\n",
        "# print(\"RMSE of the test set: %{0}  (%{1})\".format(test_rmse.mean(),tset.rmse.std()))\n",
        "# #print(\"R2 of the test set: %\".format(test_r2))"
      ],
      "execution_count": 0,
      "outputs": []
    }
  ]
}