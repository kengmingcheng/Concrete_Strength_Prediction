{
  "nbformat": 4,
  "nbformat_minor": 0,
  "metadata": {
    "colab": {
      "name": "UCLA_sklearn.ipynb",
      "provenance": [],
      "collapsed_sections": [],
      "include_colab_link": true
    },
    "kernelspec": {
      "name": "python3",
      "display_name": "Python 3"
    }
  },
  "cells": [
    {
      "cell_type": "markdown",
      "metadata": {
        "id": "view-in-github",
        "colab_type": "text"
      },
      "source": [
        "<a href=\"https://colab.research.google.com/github/kengmingcheng/Concrete_Strength_Prediction/blob/master/UCLA_sklearn.ipynb\" target=\"_parent\"><img src=\"https://colab.research.google.com/assets/colab-badge.svg\" alt=\"Open In Colab\"/></a>"
      ]
    },
    {
      "cell_type": "code",
      "metadata": {
        "id": "j4jb8cxGTRsl"
      },
      "source": [
        "import numpy as np\n",
        "import pandas as pd\n",
        "import math\n",
        "import matplotlib.pyplot as plt\n",
        "import seaborn as sns\n",
        "sns.set_style('darkgrid')\n",
        "from sklearn.model_selection import KFold, cross_val_score, train_test_split\n",
        "from sklearn.preprocessing import StandardScaler, MinMaxScaler, RobustScaler, Normalizer\n",
        "from sklearn.metrics import mean_squared_error, make_scorer, r2_score\n",
        "from sklearn.neural_network import MLPRegressor\n",
        "from sklearn.utils import shuffle"
      ],
      "execution_count": null,
      "outputs": []
    },
    {
      "cell_type": "code",
      "metadata": {
        "id": "OT7Qy6LtTxBA"
      },
      "source": [
        "# Code to read csv file into Colaboratory:\n",
        "from pydrive.auth import GoogleAuth\n",
        "from pydrive.drive import GoogleDrive\n",
        "from google.colab import auth\n",
        "from oauth2client.client import GoogleCredentials\n",
        "# Authenticate and create the PyDrive client.\n",
        "auth.authenticate_user()\n",
        "gauth = GoogleAuth()\n",
        "gauth.credentials = GoogleCredentials.get_application_default()\n",
        "drive = GoogleDrive(gauth)"
      ],
      "execution_count": null,
      "outputs": []
    },
    {
      "cell_type": "code",
      "metadata": {
        "id": "6iQ6sB6bTzPS",
        "outputId": "c838695d-3763-43e8-ce10-4cd3aabd77ac",
        "colab": {
          "base_uri": "https://localhost:8080/",
          "height": 51
        }
      },
      "source": [
        "link = \"https://drive.google.com/open?id=1niFDtDbD-NtI0fINwxGidgAoVgRI5r1g\"\n",
        "fluff, id_down = link.split('=')\n",
        "print(\"File ID: {}\".format(id_down))\n",
        "\n",
        "upload_link = \"https://drive.google.com/open?id=1OPkyRvIKKjor9RspmfJ2eP9c02rXNzKV\"\n",
        "url, id_up = link.split('=')\n",
        "print(\"Upload folder ID: {}\".format(id_up))\n",
        "\n",
        "file = drive.CreateFile({'id':id_down}) \n",
        "file.GetContentFile('clean_data_28day.csv')"
      ],
      "execution_count": null,
      "outputs": [
        {
          "output_type": "stream",
          "text": [
            "File ID: 1niFDtDbD-NtI0fINwxGidgAoVgRI5r1g\n",
            "Upload folder ID: 1niFDtDbD-NtI0fINwxGidgAoVgRI5r1g\n"
          ],
          "name": "stdout"
        }
      ]
    },
    {
      "cell_type": "code",
      "metadata": {
        "id": "PqzkVrgVT1Y-",
        "outputId": "ec6323a7-59b9-4aed-e72c-e671df565561",
        "colab": {
          "base_uri": "https://localhost:8080/",
          "height": 312
        }
      },
      "source": [
        "df_data = pd.read_csv('clean_data_28day.csv')\n",
        "df_data.describe()"
      ],
      "execution_count": null,
      "outputs": [
        {
          "output_type": "execute_result",
          "data": {
            "text/html": [
              "<div>\n",
              "<style scoped>\n",
              "    .dataframe tbody tr th:only-of-type {\n",
              "        vertical-align: middle;\n",
              "    }\n",
              "\n",
              "    .dataframe tbody tr th {\n",
              "        vertical-align: top;\n",
              "    }\n",
              "\n",
              "    .dataframe thead th {\n",
              "        text-align: right;\n",
              "    }\n",
              "</style>\n",
              "<table border=\"1\" class=\"dataframe\">\n",
              "  <thead>\n",
              "    <tr style=\"text-align: right;\">\n",
              "      <th></th>\n",
              "      <th>AEA Dose (oz/cwt)</th>\n",
              "      <th>TYPE AWRA Dose (oz/cwt)</th>\n",
              "      <th>W/(C+P)</th>\n",
              "      <th>7 Day</th>\n",
              "      <th>28 Day</th>\n",
              "      <th>Coarse Agg Percentage</th>\n",
              "      <th>Fine Agg Percentage</th>\n",
              "      <th>%Fly Ash</th>\n",
              "    </tr>\n",
              "  </thead>\n",
              "  <tbody>\n",
              "    <tr>\n",
              "      <th>count</th>\n",
              "      <td>7441.000000</td>\n",
              "      <td>7441.000000</td>\n",
              "      <td>7441.000000</td>\n",
              "      <td>7441.000000</td>\n",
              "      <td>7441.000000</td>\n",
              "      <td>7441.000000</td>\n",
              "      <td>7441.000000</td>\n",
              "      <td>7441.000000</td>\n",
              "    </tr>\n",
              "    <tr>\n",
              "      <th>mean</th>\n",
              "      <td>0.451765</td>\n",
              "      <td>3.298768</td>\n",
              "      <td>0.381364</td>\n",
              "      <td>4356.616046</td>\n",
              "      <td>5776.655019</td>\n",
              "      <td>47.554086</td>\n",
              "      <td>34.968076</td>\n",
              "      <td>3.010362</td>\n",
              "    </tr>\n",
              "    <tr>\n",
              "      <th>std</th>\n",
              "      <td>0.282533</td>\n",
              "      <td>1.884618</td>\n",
              "      <td>0.043183</td>\n",
              "      <td>977.603430</td>\n",
              "      <td>1032.851117</td>\n",
              "      <td>1.473127</td>\n",
              "      <td>2.249621</td>\n",
              "      <td>1.753022</td>\n",
              "    </tr>\n",
              "    <tr>\n",
              "      <th>min</th>\n",
              "      <td>0.000000</td>\n",
              "      <td>0.000000</td>\n",
              "      <td>0.240000</td>\n",
              "      <td>1720.000000</td>\n",
              "      <td>3200.000000</td>\n",
              "      <td>31.480118</td>\n",
              "      <td>25.965329</td>\n",
              "      <td>0.000000</td>\n",
              "    </tr>\n",
              "    <tr>\n",
              "      <th>25%</th>\n",
              "      <td>0.350000</td>\n",
              "      <td>2.010000</td>\n",
              "      <td>0.350000</td>\n",
              "      <td>3740.000000</td>\n",
              "      <td>5080.000000</td>\n",
              "      <td>47.001076</td>\n",
              "      <td>33.337954</td>\n",
              "      <td>1.738581</td>\n",
              "    </tr>\n",
              "    <tr>\n",
              "      <th>50%</th>\n",
              "      <td>0.460000</td>\n",
              "      <td>3.990000</td>\n",
              "      <td>0.380000</td>\n",
              "      <td>4200.000000</td>\n",
              "      <td>5640.000000</td>\n",
              "      <td>47.877294</td>\n",
              "      <td>34.767074</td>\n",
              "      <td>3.358313</td>\n",
              "    </tr>\n",
              "    <tr>\n",
              "      <th>75%</th>\n",
              "      <td>0.580000</td>\n",
              "      <td>4.920000</td>\n",
              "      <td>0.400000</td>\n",
              "      <td>4830.000000</td>\n",
              "      <td>6340.000000</td>\n",
              "      <td>48.413908</td>\n",
              "      <td>36.413717</td>\n",
              "      <td>3.703186</td>\n",
              "    </tr>\n",
              "    <tr>\n",
              "      <th>max</th>\n",
              "      <td>3.770000</td>\n",
              "      <td>6.080000</td>\n",
              "      <td>0.590000</td>\n",
              "      <td>35790.000000</td>\n",
              "      <td>12050.000000</td>\n",
              "      <td>54.070968</td>\n",
              "      <td>52.551303</td>\n",
              "      <td>6.511770</td>\n",
              "    </tr>\n",
              "  </tbody>\n",
              "</table>\n",
              "</div>"
            ],
            "text/plain": [
              "       AEA Dose (oz/cwt)  ...     %Fly Ash\n",
              "count        7441.000000  ...  7441.000000\n",
              "mean            0.451765  ...     3.010362\n",
              "std             0.282533  ...     1.753022\n",
              "min             0.000000  ...     0.000000\n",
              "25%             0.350000  ...     1.738581\n",
              "50%             0.460000  ...     3.358313\n",
              "75%             0.580000  ...     3.703186\n",
              "max             3.770000  ...     6.511770\n",
              "\n",
              "[8 rows x 8 columns]"
            ]
          },
          "metadata": {
            "tags": []
          },
          "execution_count": 4
        }
      ]
    },
    {
      "cell_type": "code",
      "metadata": {
        "id": "XNK8Sw-xdp7I",
        "outputId": "c3aa79ac-423b-4263-f756-4338bfdb80ec",
        "colab": {
          "base_uri": "https://localhost:8080/",
          "height": 68
        }
      },
      "source": [
        "df_data.columns"
      ],
      "execution_count": null,
      "outputs": [
        {
          "output_type": "execute_result",
          "data": {
            "text/plain": [
              "Index(['AEA Dose (oz/cwt)', 'TYPE AWRA Dose (oz/cwt)', 'W/(C+P)', '7 Day',\n",
              "       '28 Day', 'Coarse Agg Percentage', 'Fine Agg Percentage', '%Fly Ash'],\n",
              "      dtype='object')"
            ]
          },
          "metadata": {
            "tags": []
          },
          "execution_count": 5
        }
      ]
    },
    {
      "cell_type": "code",
      "metadata": {
        "id": "eqnDshRZkPiF"
      },
      "source": [
        "input_features=['AEA Dose (oz/cwt)', 'TYPE AWRA Dose (oz/cwt)', 'W/(C+P)',\n",
        "               'Coarse Agg Percentage', 'Fine Agg Percentage', '%Fly Ash'\n",
        "                ]\n",
        "df_data = shuffle(df_data, random_state = 42)\n",
        "\n",
        "y7_data=df_data[[\"7 Day\"]]\n",
        "y28_data=df_data[[\"28 Day\"]]\n",
        "# Select scaler for input and target data\n",
        "input_scaler = MinMaxScaler()\n",
        "target_scaler = StandardScaler()\n",
        "# scaler transformation\n",
        "# input_data=input_scaler.fit_transform(df_data.loc[:,input_features])\n",
        "input_data=input_scaler.fit_transform(df_data.drop([\"7 Day\", \"28 Day\"], axis=1))\n",
        "target_data=target_scaler.fit_transform(y28_data)\n",
        "# split data into training and test sets\n",
        "train_index, cv_index = train_test_split(np.arange(len(df_data)), random_state= 42, test_size=0.2)\n",
        "\n",
        "train_input=input_data[train_index]\n",
        "cv_input=input_data[cv_index]\n",
        "\n",
        "train_target=target_data[train_index]\n",
        "cv_target=target_data[cv_index]"
      ],
      "execution_count": null,
      "outputs": []
    },
    {
      "cell_type": "code",
      "metadata": {
        "id": "K6CwUlo6TwOB"
      },
      "source": [
        "nn_sklearn = MLPRegressor(hidden_layer_sizes=(11),activation='logistic',max_iter=1000,random_state=1,solver='lbfgs')"
      ],
      "execution_count": null,
      "outputs": []
    },
    {
      "cell_type": "code",
      "metadata": {
        "id": "IjlD6RfQiQju",
        "outputId": "71b0b4ea-ee7e-43cb-e8c7-ca87d252e549",
        "colab": {
          "base_uri": "https://localhost:8080/",
          "height": 191
        }
      },
      "source": [
        "nn_sklearn.fit(train_input, train_target)"
      ],
      "execution_count": null,
      "outputs": [
        {
          "output_type": "stream",
          "text": [
            "/usr/local/lib/python3.6/dist-packages/sklearn/neural_network/multilayer_perceptron.py:1321: DataConversionWarning: A column-vector y was passed when a 1d array was expected. Please change the shape of y to (n_samples, ), for example using ravel().\n",
            "  y = column_or_1d(y, warn=True)\n"
          ],
          "name": "stderr"
        },
        {
          "output_type": "execute_result",
          "data": {
            "text/plain": [
              "MLPRegressor(activation='logistic', alpha=0.0001, batch_size='auto', beta_1=0.9,\n",
              "             beta_2=0.999, early_stopping=False, epsilon=1e-08,\n",
              "             hidden_layer_sizes=11, learning_rate='constant',\n",
              "             learning_rate_init=0.001, max_iter=1000, momentum=0.9,\n",
              "             n_iter_no_change=10, nesterovs_momentum=True, power_t=0.5,\n",
              "             random_state=1, shuffle=True, solver='lbfgs', tol=0.0001,\n",
              "             validation_fraction=0.1, verbose=False, warm_start=False)"
            ]
          },
          "metadata": {
            "tags": []
          },
          "execution_count": 8
        }
      ]
    },
    {
      "cell_type": "code",
      "metadata": {
        "id": "HQ4yRwlZiW_b",
        "outputId": "309b7897-b675-4c11-8f43-ad7bc567ae53",
        "colab": {
          "base_uri": "https://localhost:8080/",
          "height": 51
        }
      },
      "source": [
        "nn_sklearn.predict(cv_input)"
      ],
      "execution_count": null,
      "outputs": [
        {
          "output_type": "execute_result",
          "data": {
            "text/plain": [
              "array([-0.23317678, -0.2718886 , -0.14095829, ..., -0.33236417,\n",
              "       -0.35085145, -0.34491842])"
            ]
          },
          "metadata": {
            "tags": []
          },
          "execution_count": 9
        }
      ]
    },
    {
      "cell_type": "code",
      "metadata": {
        "id": "q4V-0QLGDSJp",
        "outputId": "70cdbef3-0aad-4c14-9c30-058312c3b43e",
        "colab": {
          "base_uri": "https://localhost:8080/",
          "height": 226
        }
      },
      "source": [
        "Kfold = KFold(n_splits=5, random_state = 42, shuffle = True)\n",
        "r_squared = cross_val_score(nn_sklearn, input_data, target_data, cv = Kfold, scoring='r2')\n",
        "print(np.average(r_squared))"
      ],
      "execution_count": null,
      "outputs": [
        {
          "output_type": "stream",
          "text": [
            "/usr/local/lib/python3.6/dist-packages/sklearn/neural_network/multilayer_perceptron.py:1321: DataConversionWarning: A column-vector y was passed when a 1d array was expected. Please change the shape of y to (n_samples, ), for example using ravel().\n",
            "  y = column_or_1d(y, warn=True)\n",
            "/usr/local/lib/python3.6/dist-packages/sklearn/neural_network/multilayer_perceptron.py:1321: DataConversionWarning: A column-vector y was passed when a 1d array was expected. Please change the shape of y to (n_samples, ), for example using ravel().\n",
            "  y = column_or_1d(y, warn=True)\n",
            "/usr/local/lib/python3.6/dist-packages/sklearn/neural_network/multilayer_perceptron.py:1321: DataConversionWarning: A column-vector y was passed when a 1d array was expected. Please change the shape of y to (n_samples, ), for example using ravel().\n",
            "  y = column_or_1d(y, warn=True)\n",
            "/usr/local/lib/python3.6/dist-packages/sklearn/neural_network/multilayer_perceptron.py:1321: DataConversionWarning: A column-vector y was passed when a 1d array was expected. Please change the shape of y to (n_samples, ), for example using ravel().\n",
            "  y = column_or_1d(y, warn=True)\n",
            "/usr/local/lib/python3.6/dist-packages/sklearn/neural_network/multilayer_perceptron.py:1321: DataConversionWarning: A column-vector y was passed when a 1d array was expected. Please change the shape of y to (n_samples, ), for example using ravel().\n",
            "  y = column_or_1d(y, warn=True)\n"
          ],
          "name": "stderr"
        },
        {
          "output_type": "stream",
          "text": [
            "0.5971561740572776\n"
          ],
          "name": "stdout"
        }
      ]
    },
    {
      "cell_type": "code",
      "metadata": {
        "id": "9DFZA22NXJq8",
        "outputId": "507a2f01-f3ef-4fd4-c60a-fd6a5e58e878",
        "colab": {
          "base_uri": "https://localhost:8080/",
          "height": 34
        }
      },
      "source": [
        "scaler = StandardScaler()\n",
        "raw_data = pd.read_csv(\"clean_data_28day.csv\")\n",
        "raw_data = shuffle(raw_data, random_state = 42)\n",
        "X = raw_data.drop([\"7 Day\", \"28 Day\"], axis = 1)\n",
        "XX = MinMaxScaler().fit_transform(X)\n",
        "scaler.fit(raw_data)\n",
        "raw_data = scaler.transform(raw_data)\n",
        "y28 = raw_data[:,4]\n",
        "y7 = raw_data[:,3]\n",
        "X7_train, X7_test, y7_train, y7_test = train_test_split(X, y7, test_size=0.2, random_state=42)\n",
        "X28_train, X28_test, y28_train, y28_test = train_test_split(X, y28, test_size=0.2, random_state=42)\n",
        "est = MLPRegressor(hidden_layer_sizes=(11),activation='logistic',max_iter=1000,random_state=1,solver='lbfgs')\n",
        "r2 = cross_val_score(est, XX, y28, cv = 5)\n",
        "print(np.average(r2))"
      ],
      "execution_count": null,
      "outputs": [
        {
          "output_type": "stream",
          "text": [
            "0.5954855708547134\n"
          ],
          "name": "stdout"
        }
      ]
    },
    {
      "cell_type": "code",
      "metadata": {
        "id": "TM6L7_2misG5",
        "outputId": "4a14d766-8ea2-4971-d666-0e75f7c1a580",
        "colab": {
          "base_uri": "https://localhost:8080/",
          "height": 34
        }
      },
      "source": [
        "mse = cross_val_score(est,XX, y28, cv=5, scoring = 'neg_mean_squared_error')\n",
        "print(np.average(np.sqrt(np.negative(mse))))"
      ],
      "execution_count": null,
      "outputs": [
        {
          "output_type": "stream",
          "text": [
            "0.6355120332873878\n"
          ],
          "name": "stdout"
        }
      ]
    },
    {
      "cell_type": "code",
      "metadata": {
        "id": "2szfXhf6GHsm"
      },
      "source": [
        "test = df_data[[\"28 Day\",\"7 Day\"]]\n",
        "test_data = StandardScaler().fit_transform(test)"
      ],
      "execution_count": null,
      "outputs": []
    }
  ]
}